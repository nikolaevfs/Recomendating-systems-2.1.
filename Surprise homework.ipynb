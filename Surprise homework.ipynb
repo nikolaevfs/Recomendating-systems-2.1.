{
 "cells": [
  {
   "cell_type": "markdown",
   "metadata": {},
   "source": [
    "# Surprise homework"
   ]
  },
  {
   "cell_type": "code",
   "execution_count": 17,
   "metadata": {
    "scrolled": true
   },
   "outputs": [],
   "source": [
    "import io \n",
    "from collections import defaultdict\n",
    "\n",
    "import pandas as pd\n",
    "from surprise import Dataset\n",
    "from surprise import SVD\n",
    "from surprise import NormalPredictor\n",
    "from surprise import KNNWithMeans\n",
    "from surprise import accuracy\n",
    "\n",
    "from surprise.model_selection import cross_validate\n",
    "from surprise.model_selection import train_test_split\n",
    "\n",
    "import os"
   ]
  },
  {
   "cell_type": "markdown",
   "metadata": {},
   "source": [
    "### Functions"
   ]
  },
  {
   "cell_type": "code",
   "execution_count": 2,
   "metadata": {},
   "outputs": [],
   "source": [
    "# используйте полезные функции из FAQ\n",
    "def get_top_n(predictions, n=10):\n",
    "    \"\"\"Return the top-N recommendation for each user from a set of predictions.\n",
    "\n",
    "    Args:\n",
    "        predictions(list of Prediction objects): The list of predictions, as\n",
    "            returned by the test method of an algorithm.\n",
    "        n(int): The number of recommendation to output for each user. Default\n",
    "            is 10.\n",
    "\n",
    "    Returns:\n",
    "    A dict where keys are user (raw) ids and values are lists of tuples:\n",
    "        [(raw item id, rating estimation), ...] of size n.\n",
    "    \"\"\"\n",
    "\n",
    "    # First map the predictions to each user.\n",
    "    top_n = defaultdict(list)\n",
    "    for uid, iid, true_r, est, _ in predictions:\n",
    "        top_n[uid].append((iid, est))\n",
    "\n",
    "    # Then sort the predictions for each user and retrieve the k highest ones.\n",
    "    for uid, user_ratings in top_n.items():\n",
    "        user_ratings.sort(key=lambda x: x[1], reverse=True)\n",
    "        top_n[uid] = user_ratings[:n]\n",
    "\n",
    "    return top_n\n",
    "\n",
    "def precision_recall_at_k(predictions, k=10, threshold=3.5):\n",
    "    \"\"\"Return precision and recall at k metrics for each user\"\"\"\n",
    "\n",
    "    # First map the predictions to each user.\n",
    "    user_est_true = defaultdict(list)\n",
    "    for uid, _, true_r, est, _ in predictions:\n",
    "        user_est_true[uid].append((est, true_r))\n",
    "\n",
    "    precisions = dict()\n",
    "    recalls = dict()\n",
    "    for uid, user_ratings in user_est_true.items():\n",
    "\n",
    "        # Sort user ratings by estimated value\n",
    "        user_ratings.sort(key=lambda x: x[0], reverse=True)\n",
    "\n",
    "        # Number of relevant items\n",
    "        n_rel = sum((true_r >= threshold) for (_, true_r) in user_ratings)\n",
    "\n",
    "        # Number of recommended items in top k\n",
    "        n_rec_k = sum((est >= threshold) for (est, _) in user_ratings[:k])\n",
    "\n",
    "        # Number of relevant and recommended items in top k\n",
    "        n_rel_and_rec_k = sum(((true_r >= threshold) and (est >= threshold))\n",
    "                              for (est, true_r) in user_ratings[:k])\n",
    "\n",
    "        # Precision@K: Proportion of recommended items that are relevant\n",
    "        # When n_rec_k is 0, Precision is undefined. We here set it to 0.\n",
    "\n",
    "        precisions[uid] = n_rel_and_rec_k / n_rec_k if n_rec_k != 0 else 0\n",
    "\n",
    "        # Recall@K: Proportion of relevant items that are recommended\n",
    "        # When n_rel is 0, Recall is undefined. We here set it to 0.\n",
    "\n",
    "        recalls[uid] = n_rel_and_rec_k / n_rel if n_rel != 0 else 0\n",
    "\n",
    "    return precisions, recalls"
   ]
  },
  {
   "cell_type": "markdown",
   "metadata": {},
   "source": [
    "### Load data"
   ]
  },
  {
   "cell_type": "code",
   "execution_count": 3,
   "metadata": {},
   "outputs": [
    {
     "data": {
      "text/plain": [
       "<surprise.dataset.DatasetAutoFolds at 0x22585783a00>"
      ]
     },
     "execution_count": 3,
     "metadata": {},
     "output_type": "execute_result"
    }
   ],
   "source": [
    "data = Dataset.load_builtin('ml-100k')\n",
    "data"
   ]
  },
  {
   "cell_type": "markdown",
   "metadata": {},
   "source": [
    "### Define algorithms"
   ]
  },
  {
   "cell_type": "code",
   "execution_count": 4,
   "metadata": {},
   "outputs": [],
   "source": [
    "# внимательно изучите документацию по метрикам и алгоритмам\n",
    "normalAlg = NormalPredictor()\n",
    "\n",
    "sim_options = {'name': 'cosine'}\n",
    "cosAlg = KNNWithMeans(sim_options=sim_options)\n",
    "\n",
    "sim_options = {'name': 'pearson_baseline'}\n",
    "pearsonAlg = KNNWithMeans(sim_options=sim_options)\n",
    "\n",
    "sim_options = {'name': 'msd'}\n",
    "msdAlg = KNNWithMeans(sim_options=sim_options)\n",
    "\n",
    "svdAlg = SVD()"
   ]
  },
  {
   "cell_type": "markdown",
   "metadata": {},
   "source": [
    "### Select algorithm"
   ]
  },
  {
   "cell_type": "code",
   "execution_count": 5,
   "metadata": {},
   "outputs": [
    {
     "name": "stdout",
     "output_type": "stream",
     "text": [
      "Evaluating RMSE of algorithm NormalPredictor on 5 split(s).\n",
      "\n",
      "                  Fold 1  Fold 2  Fold 3  Fold 4  Fold 5  Mean    Std     \n",
      "RMSE (testset)    1.5124  1.5155  1.5172  1.5126  1.5188  1.5153  0.0025  \n",
      "Fit time          0.22    0.26    0.24    0.24    0.23    0.24    0.01    \n",
      "Test time         0.29    0.25    0.27    0.30    0.31    0.28    0.02    \n"
     ]
    },
    {
     "data": {
      "text/plain": [
       "{'test_rmse': array([1.51235751, 1.51549447, 1.51716755, 1.51258015, 1.51876918]),\n",
       " 'fit_time': (0.21882915496826172,\n",
       "  0.25604844093322754,\n",
       "  0.24122166633605957,\n",
       "  0.2381887435913086,\n",
       "  0.2344350814819336),\n",
       " 'test_time': (0.29325342178344727,\n",
       "  0.2480623722076416,\n",
       "  0.2720677852630615,\n",
       "  0.29696202278137207,\n",
       "  0.30916500091552734)}"
      ]
     },
     "execution_count": 5,
     "metadata": {},
     "output_type": "execute_result"
    }
   ],
   "source": [
    "cross_validate(normalAlg, data, measures=['RMSE'], cv=5, verbose=True)"
   ]
  },
  {
   "cell_type": "code",
   "execution_count": 6,
   "metadata": {},
   "outputs": [
    {
     "name": "stdout",
     "output_type": "stream",
     "text": [
      "Computing the cosine similarity matrix...\n",
      "Done computing similarity matrix.\n",
      "Computing the cosine similarity matrix...\n",
      "Done computing similarity matrix.\n",
      "Computing the cosine similarity matrix...\n",
      "Done computing similarity matrix.\n",
      "Computing the cosine similarity matrix...\n",
      "Done computing similarity matrix.\n",
      "Computing the cosine similarity matrix...\n",
      "Done computing similarity matrix.\n",
      "Evaluating RMSE of algorithm KNNWithMeans on 5 split(s).\n",
      "\n",
      "                  Fold 1  Fold 2  Fold 3  Fold 4  Fold 5  Mean    Std     \n",
      "RMSE (testset)    0.9595  0.9560  0.9488  0.9572  0.9540  0.9551  0.0036  \n",
      "Fit time          3.16    3.31    3.20    2.68    2.90    3.05    0.23    \n",
      "Test time         6.46    6.27    6.32    5.78    6.22    6.21    0.23    \n"
     ]
    },
    {
     "data": {
      "text/plain": [
       "{'test_rmse': array([0.95954247, 0.95597974, 0.94881104, 0.957194  , 0.95401429]),\n",
       " 'fit_time': (3.1587071418762207,\n",
       "  3.3094677925109863,\n",
       "  3.2039668560028076,\n",
       "  2.6840953826904297,\n",
       "  2.8987929821014404),\n",
       " 'test_time': (6.461134672164917,\n",
       "  6.2651896476745605,\n",
       "  6.321328401565552,\n",
       "  5.776730298995972,\n",
       "  6.222026348114014)}"
      ]
     },
     "execution_count": 6,
     "metadata": {},
     "output_type": "execute_result"
    }
   ],
   "source": [
    "cross_validate(cosAlg, data, measures=['RMSE'], cv=5, verbose=True)"
   ]
  },
  {
   "cell_type": "code",
   "execution_count": 7,
   "metadata": {},
   "outputs": [
    {
     "name": "stdout",
     "output_type": "stream",
     "text": [
      "Estimating biases using als...\n",
      "Computing the pearson_baseline similarity matrix...\n",
      "Done computing similarity matrix.\n",
      "Estimating biases using als...\n",
      "Computing the pearson_baseline similarity matrix...\n",
      "Done computing similarity matrix.\n",
      "Estimating biases using als...\n",
      "Computing the pearson_baseline similarity matrix...\n",
      "Done computing similarity matrix.\n",
      "Estimating biases using als...\n",
      "Computing the pearson_baseline similarity matrix...\n",
      "Done computing similarity matrix.\n",
      "Estimating biases using als...\n",
      "Computing the pearson_baseline similarity matrix...\n",
      "Done computing similarity matrix.\n",
      "Evaluating RMSE of algorithm KNNWithMeans on 5 split(s).\n",
      "\n",
      "                  Fold 1  Fold 2  Fold 3  Fold 4  Fold 5  Mean    Std     \n",
      "RMSE (testset)    0.9449  0.9330  0.9323  0.9433  0.9357  0.9378  0.0053  \n",
      "Fit time          3.47    3.46    3.72    3.78    3.52    3.59    0.13    \n",
      "Test time         6.27    6.83    6.35    6.31    6.36    6.42    0.21    \n"
     ]
    },
    {
     "data": {
      "text/plain": [
       "{'test_rmse': array([0.94490217, 0.93301222, 0.93230739, 0.94332069, 0.93567794]),\n",
       " 'fit_time': (3.471088409423828,\n",
       "  3.458237886428833,\n",
       "  3.7203166484832764,\n",
       "  3.7774109840393066,\n",
       "  3.5220837593078613),\n",
       " 'test_time': (6.2685887813568115,\n",
       "  6.83304500579834,\n",
       "  6.3461363315582275,\n",
       "  6.310084581375122,\n",
       "  6.3593525886535645)}"
      ]
     },
     "execution_count": 7,
     "metadata": {},
     "output_type": "execute_result"
    }
   ],
   "source": [
    "cross_validate(pearsonAlg, data, measures=['RMSE'], cv=5, verbose=True)"
   ]
  },
  {
   "cell_type": "code",
   "execution_count": 12,
   "metadata": {},
   "outputs": [
    {
     "name": "stdout",
     "output_type": "stream",
     "text": [
      "Computing the msd similarity matrix...\n",
      "Done computing similarity matrix.\n",
      "Computing the msd similarity matrix...\n",
      "Done computing similarity matrix.\n",
      "Computing the msd similarity matrix...\n",
      "Done computing similarity matrix.\n",
      "Computing the msd similarity matrix...\n",
      "Done computing similarity matrix.\n",
      "Computing the msd similarity matrix...\n",
      "Done computing similarity matrix.\n",
      "Evaluating RMSE of algorithm KNNWithMeans on 5 split(s).\n",
      "\n",
      "                  Fold 1  Fold 2  Fold 3  Fold 4  Fold 5  Mean    Std     \n",
      "RMSE (testset)    0.9420  0.9489  0.9527  0.9526  0.9562  0.9505  0.0048  \n",
      "Fit time          1.07    0.93    0.93    0.87    1.20    1.00    0.12    \n",
      "Test time         6.91    7.00    6.43    7.44    7.18    6.99    0.34    \n"
     ]
    },
    {
     "data": {
      "text/plain": [
       "{'test_rmse': array([0.94196486, 0.94887555, 0.95267233, 0.95256295, 0.95618462]),\n",
       " 'fit_time': (1.073423147201538,\n",
       "  0.9304840564727783,\n",
       "  0.928041934967041,\n",
       "  0.8722121715545654,\n",
       "  1.2002699375152588),\n",
       " 'test_time': (6.913332223892212,\n",
       "  7.003416299819946,\n",
       "  6.4297497272491455,\n",
       "  7.441978693008423,\n",
       "  7.183050870895386)}"
      ]
     },
     "execution_count": 12,
     "metadata": {},
     "output_type": "execute_result"
    }
   ],
   "source": [
    "cross_validate(msdAlg, data, measures=['RMSE'], cv=5, verbose=True)"
   ]
  },
  {
   "cell_type": "code",
   "execution_count": 13,
   "metadata": {},
   "outputs": [
    {
     "name": "stdout",
     "output_type": "stream",
     "text": [
      "Evaluating RMSE of algorithm SVD on 5 split(s).\n",
      "\n",
      "                  Fold 1  Fold 2  Fold 3  Fold 4  Fold 5  Mean    Std     \n",
      "RMSE (testset)    0.9327  0.9395  0.9351  0.9332  0.9388  0.9359  0.0028  \n",
      "Fit time          7.45    8.15    7.41    7.40    7.64    7.61    0.28    \n",
      "Test time         0.25    0.34    0.22    0.22    0.41    0.29    0.07    \n"
     ]
    },
    {
     "data": {
      "text/plain": [
       "{'test_rmse': array([0.93273643, 0.93954703, 0.93512531, 0.93320649, 0.93884204]),\n",
       " 'fit_time': (7.454216480255127,\n",
       "  8.15038800239563,\n",
       "  7.4096999168396,\n",
       "  7.399476766586304,\n",
       "  7.6424477100372314),\n",
       " 'test_time': (0.24917197227478027,\n",
       "  0.3412134647369385,\n",
       "  0.21881914138793945,\n",
       "  0.22405719757080078,\n",
       "  0.4081003665924072)}"
      ]
     },
     "execution_count": 13,
     "metadata": {},
     "output_type": "execute_result"
    }
   ],
   "source": [
    "cross_validate(svdAlg, data, measures=['RMSE'], cv=5, verbose=True)"
   ]
  },
  {
   "cell_type": "markdown",
   "metadata": {},
   "source": [
    "### Calculate precision@k and recall@k"
   ]
  },
  {
   "cell_type": "code",
   "execution_count": 16,
   "metadata": {},
   "outputs": [
    {
     "name": "stdout",
     "output_type": "stream",
     "text": [
      "0.7454883227176221 0.37051799967309446\n"
     ]
    }
   ],
   "source": [
    "trainset, testset = train_test_split(data, test_size=.25)\n",
    "svdAlg.fit(trainset)\n",
    "predictions = svdAlg.test(testset)\n",
    "\n",
    "precisions, recalls = precision_recall_at_k(predictions, k=5, threshold=3.52)\n",
    "print(pd.Series(precisions).mean(), pd.Series(recalls).mean())"
   ]
  },
  {
   "cell_type": "markdown",
   "metadata": {},
   "source": [
    "### Predict"
   ]
  },
  {
   "cell_type": "code",
   "execution_count": 24,
   "metadata": {},
   "outputs": [],
   "source": [
    "# обратите внимание на функцию build_anti_testset\n",
    "variant = '20'\n",
    "userPredict = get_top_n(predictions, 5)[variant]"
   ]
  },
  {
   "cell_type": "code",
   "execution_count": 25,
   "metadata": {},
   "outputs": [
    {
     "name": "stdout",
     "output_type": "stream",
     "text": [
      "User 1\n",
      "200 ('Shining, The (1980)', '01-Jan-1980') 4.524\n",
      "114 ('Wallace & Gromit: The Best of Aardman Animation (1996)', '05-Apr-1996') 4.494\n",
      "191 ('Amadeus (1984)', '01-Jan-1984') 4.472\n",
      "199 ('Bridge on the River Kwai, The (1957)', '01-Jan-1957') 4.45\n",
      "136 ('Mr. Smith Goes to Washington (1939)', '01-Jan-1939') 4.443\n"
     ]
    }
   ],
   "source": [
    "itemPath = os.path.expanduser('~/.surprise_data/ml-100k/ml-100k/u.item')\n",
    "itemDf = pd.read_csv(itemPath, sep='|',encoding='ISO-8859-1', header = None, index_col = 0)\n",
    "\n",
    "print(\"User \" + variant)\n",
    "for item in userPredict:\n",
    "    film = itemDf.loc[int(item[0])][1]\n",
    "    date = itemDf.loc[int(item[0])][2]\n",
    "    print(item[0] + \" ('\" + film + \"', '\" + date + \"') \" + str(round(item[1], 3)))"
   ]
  }
 ],
 "metadata": {
  "kernelspec": {
   "display_name": "Python 3",
   "language": "python",
   "name": "python3"
  },
  "language_info": {
   "codemirror_mode": {
    "name": "ipython",
    "version": 3
   },
   "file_extension": ".py",
   "mimetype": "text/x-python",
   "name": "python",
   "nbconvert_exporter": "python",
   "pygments_lexer": "ipython3",
   "version": "3.8.3"
  }
 },
 "nbformat": 4,
 "nbformat_minor": 2
}
